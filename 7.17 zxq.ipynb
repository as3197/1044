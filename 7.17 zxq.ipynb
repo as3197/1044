{
 "cells": [
  {
   "cell_type": "markdown",
   "metadata": {},
   "source": [
    "# 数学函数、字符串和对象\n",
    "## 本章介绍Python函数来执行常见的数学运算\n",
    "- 函数是完成一个特殊任务的一组语句，可以理解为一个函数相当于一个小功能，但是在开发中，需要注意一个函数的长度最好不要超过一屏\n",
    "- Python中的内置函数是不需要Import导入的\n",
    "<img src=\"../Photo/15.png\"></img>"
   ]
  },
  {
   "cell_type": "markdown",
   "metadata": {},
   "source": [
    "## 尝试练习Python内置函数"
   ]
  },
  {
   "cell_type": "markdown",
   "metadata": {},
   "source": [
    "## Python中的math模块提供了许多数学函数\n",
    "<img src=\"../Photo/16.png\"></img>\n",
    "<img src=\"../Photo/17.png\"></img>\n"
   ]
  },
  {
   "cell_type": "markdown",
   "metadata": {},
   "source": [
    "## 两个数学常量PI和e，可以通过使用math.pi 和math.e调用"
   ]
  },
  {
   "cell_type": "markdown",
   "metadata": {},
   "source": [
    "## EP:\n",
    "- 通过math库，写一个程序，使得用户输入三个顶点(x,y)返回三个角度\n",
    "- 注意：Python计算角度为弧度制，需要将其转换为角度\n",
    "<img src=\"../Photo/18.png\">"
   ]
  },
  {
   "cell_type": "code",
   "execution_count": null,
   "metadata": {},
   "outputs": [],
   "source": [
    "x1=eval(input(\"x1\"))\n",
    "y1=eval(input(\"y1\"))\n",
    "x2=eval(input(\"x2\"))\n",
    "y2=eval(input(\"y2\"))\n",
    "x3=eval(input(\"x3\"))\n",
    "y3=eval(input(\"y3\"))\n",
    "a=math.sqrt((x2-x3)*(x2-x3)+)"
   ]
  },
  {
   "cell_type": "markdown",
   "metadata": {},
   "source": [
    "## 字符串和字符\n",
    "- 在Python中，字符串必须是在单引号或者双引号内，在多段换行的字符串中可以使用“”“\n",
    "- 在使用”“”时，给予其变量则变为字符串，否则当多行注释使用"
   ]
  },
  {
   "cell_type": "code",
   "execution_count": 3,
   "metadata": {},
   "outputs": [
    {
     "name": "stdout",
     "output_type": "stream",
     "text": [
      "东方智业课程研发中心基于深度的行业洞察能力，\n",
      "持续跟踪和捕捉信息产业、创意产业最新的技术发展趋势和职业变化，\n",
      "深入探究产业前沿技术与教育的深度融合。\n",
      "东方智业课程研发中心以“开源共赢”的理念，\n",
      "构建集政、产、教三类专家于一体的联合科研与产品开发平台。\n",
      "东方智业课程研发中心将对国家产业政策趋势、区域产业发展优势及人才需求、\n",
      "高校产学育人需求、教育模式创新、人才评价标准等进行深度研究，形成东方智业领先的教育课程体系。\n"
     ]
    }
   ],
   "source": [
    "a=\"ass7223197\"\n",
    "a='''东方智业课程研发中心基于深度的行业洞察能力，\n",
    "持续跟踪和捕捉信息产业、创意产业最新的技术发展趋势和职业变化，\n",
    "深入探究产业前沿技术与教育的深度融合。\n",
    "东方智业课程研发中心以“开源共赢”的理念，\n",
    "构建集政、产、教三类专家于一体的联合科研与产品开发平台。\n",
    "东方智业课程研发中心将对国家产业政策趋势、区域产业发展优势及人才需求、\n",
    "高校产学育人需求、教育模式创新、人才评价标准等进行深度研究，形成东方智业领先的教育课程体系。'''\n",
    "print(a)"
   ]
  },
  {
   "cell_type": "markdown",
   "metadata": {},
   "source": [
    "## ASCII码与Unicode码\n",
    "- <img src=\"../Photo/19.png\"></img>\n",
    "- <img src=\"../Photo/20.png\"></img>\n",
    "- <img src=\"../Photo/21.png\"></img>"
   ]
  },
  {
   "cell_type": "markdown",
   "metadata": {},
   "source": [
    "## 函数ord、chr\n",
    "- ord 返回ASCII码值\n",
    "- chr 返回字符"
   ]
  },
  {
   "cell_type": "code",
   "execution_count": 6,
   "metadata": {},
   "outputs": [
    {
     "data": {
      "text/plain": [
       "'s'"
      ]
     },
     "execution_count": 6,
     "metadata": {},
     "output_type": "execute_result"
    }
   ],
   "source": [
    "ord(\"q\")\n",
    "chr(115)"
   ]
  },
  {
   "cell_type": "markdown",
   "metadata": {},
   "source": [
    "## EP:\n",
    "- 利用ord与chr进行简单邮箱加密"
   ]
  },
  {
   "cell_type": "code",
   "execution_count": 12,
   "metadata": {},
   "outputs": [
    {
     "name": "stdout",
     "output_type": "stream",
     "text": [
      "t\n",
      "p\n",
      "i\n",
      "v\n",
      "`\n",
      "{\n",
      "y\n",
      "r\n",
      "A\n",
      "t\n",
      "p\n",
      "i\n",
      "v\n",
      "/\n",
      "d\n",
      "p\n",
      "n\n"
     ]
    }
   ],
   "source": [
    "email=\"sohu_zxq@sohu.com\"\n",
    "for i in email:\n",
    "    test=ord(i)+1\n",
    "    test_test=chr(test)\n",
    "    print(test_test)"
   ]
  },
  {
   "cell_type": "code",
   "execution_count": null,
   "metadata": {},
   "outputs": [],
   "source": [
    "import hashlib\n",
    "hashlib.md5\n",
    "porint"
   ]
  },
  {
   "cell_type": "markdown",
   "metadata": {},
   "source": [
    "## 转义序列 \\\n",
    "- a = \"He said,\"Johon's program is easy to read\"\""
   ]
  },
  {
   "cell_type": "code",
   "execution_count": 16,
   "metadata": {},
   "outputs": [
    {
     "name": "stdout",
     "output_type": "stream",
     "text": [
      "he said,\"John' program is easy to read\"\n"
     ]
    }
   ],
   "source": [
    "a=\"he said,\\\"John' program is easy to read\\\"\"\n",
    "print(a)"
   ]
  },
  {
   "cell_type": "markdown",
   "metadata": {},
   "source": [
    "## 高级print\n",
    "- 参数 end： 以什么方式结束打印\n",
    "- 默认换行打印"
   ]
  },
  {
   "cell_type": "code",
   "execution_count": 22,
   "metadata": {},
   "outputs": [
    {
     "name": "stdout",
     "output_type": "stream",
     "text": [
      "t\n",
      "p\n",
      "i\n",
      "v\n",
      "`\n",
      "{\n",
      "y\n",
      "r\n",
      "A\n",
      "t\n",
      "p\n",
      "i\n",
      "v\n",
      "/\n",
      "d\n",
      "p\n",
      "n\n"
     ]
    }
   ],
   "source": [
    "email=\"sohu_zxq@sohu.com\"\n",
    "for i in email:\n",
    "    test=ord(i)+1\n",
    "    test_test=chr(test)\n",
    "    print(test_test,end=\"\\n\")   #默认换行符打印"
   ]
  },
  {
   "cell_type": "markdown",
   "metadata": {},
   "source": [
    "## 函数str\n",
    "- 将类型强制转换成字符串类型\n",
    "- 其他一些以后会学到(list,set,tuple...)"
   ]
  },
  {
   "cell_type": "code",
   "execution_count": 24,
   "metadata": {},
   "outputs": [
    {
     "data": {
      "text/plain": [
       "'100'"
      ]
     },
     "execution_count": 24,
     "metadata": {},
     "output_type": "execute_result"
    }
   ],
   "source": [
    "a=100\n",
    "str(a)"
   ]
  },
  {
   "cell_type": "markdown",
   "metadata": {},
   "source": [
    "## 字符串连接操作\n",
    "- 直接使用 “+” \n",
    "- join() 函数 "
   ]
  },
  {
   "cell_type": "code",
   "execution_count": 29,
   "metadata": {},
   "outputs": [
    {
     "name": "stdout",
     "output_type": "stream",
     "text": [
      "www.baidu.com/page=0\n",
      "www.baidu.com/page=1\n",
      "www.baidu.com/page=2\n",
      "www.baidu.com/page=3\n",
      "www.baidu.com/page=4\n",
      "www.baidu.com/page=5\n",
      "www.baidu.com/page=6\n",
      "www.baidu.com/page=7\n",
      "www.baidu.com/page=8\n",
      "www.baidu.com/page=9\n",
      "www.baidu.com/page=10\n",
      "www.baidu.com/page=11\n",
      "www.baidu.com/page=12\n",
      "www.baidu.com/page=13\n",
      "www.baidu.com/page=14\n"
     ]
    }
   ],
   "source": [
    "a1=\"www.baidu.com/page=\"\n",
    "for i in range(15):\n",
    "    a2=a1+str(i)\n",
    "    print(a2)"
   ]
  },
  {
   "cell_type": "code",
   "execution_count": 38,
   "metadata": {},
   "outputs": [
    {
     "data": {
      "text/plain": [
       "'a^c^d'"
      ]
     },
     "execution_count": 38,
     "metadata": {},
     "output_type": "execute_result"
    }
   ],
   "source": [
    "\"^\".join((\"a\",\"c\",\"d\"))"
   ]
  },
  {
   "cell_type": "code",
   "execution_count": 40,
   "metadata": {},
   "outputs": [
    {
     "name": "stdout",
     "output_type": "stream",
     "text": [
      "Wall time: 0 ns\n"
     ]
    },
    {
     "data": {
      "text/plain": [
       "'a^c^d'"
      ]
     },
     "execution_count": 40,
     "metadata": {},
     "output_type": "execute_result"
    }
   ],
   "source": [
    "%time \"^\".join((\"a\",\"c\",\"d\"))"
   ]
  },
  {
   "cell_type": "markdown",
   "metadata": {},
   "source": [
    "## EP：\n",
    "- 将 “Welcome” “to” \"Python\" 拼接\n",
    "- 将int型 100 与 “joker is a bad man” 拼接\n",
    "- 从控制台读取字符串\n",
    "> 输入一个名字返回夸奖此人是一个帅哥"
   ]
  },
  {
   "cell_type": "markdown",
   "metadata": {},
   "source": [
    "## 实例研究：最小数量硬币\n",
    "- 开发一个程序，让用户输入总金额，这是一个用美元和美分表示的浮点值，返回一个由美元、两角五分的硬币、一角的硬币、五分硬币、以及美分个数\n",
    "<img src=\"../Photo/22.png\"></img>"
   ]
  },
  {
   "cell_type": "code",
   "execution_count": 30,
   "metadata": {},
   "outputs": [
    {
     "name": "stdout",
     "output_type": "stream",
     "text": [
      "Ennter an amount,for example 11.56:11.56\n",
      "1156\n",
      "11 2 0 1 1\n"
     ]
    }
   ],
   "source": [
    "amount = eval(input('Ennter an amount,for example 11.56:'))\n",
    "remainingAmount = int(amount * 100)\n",
    "print(remainingAmount)\n",
    "numberOfOneDollars = remainingAmount //100\n",
    "remainingAmount = remainingAmount % 100\n",
    "numberOfQuarters = remainingAmount // 25\n",
    "remainingAmount = remainingAmount % 25\n",
    "numberOfDimes = remainingAmount // 10\n",
    "remainingAmount = remainingAmount % 10\n",
    "numberOfNickls = remainingAmount // 5\n",
    "remainingAmount = remainingAmount % 5\n",
    "numberOfPenies = remainingAmount\n",
    "print(numberOfOneDollars,numberOfQuarters,numberOfDimes,numberOfNickls,numberOfPenies)"
   ]
  },
  {
   "cell_type": "markdown",
   "metadata": {},
   "source": [
    "- Python弱项，对于浮点型的处理并不是很好，但是处理数据的时候使用的是Numpy类型\n",
    "<img src=\"../Photo/23.png\"></img>"
   ]
  },
  {
   "cell_type": "code",
   "execution_count": 1,
   "metadata": {},
   "outputs": [
    {
     "name": "stdout",
     "output_type": "stream",
     "text": [
      "Ennter an amount,for example 11.56:1003\n",
      "1003\n",
      "10 0 0 0 3\n"
     ]
    }
   ],
   "source": [
    "remainingAmount = eval(input('Ennter an amount,for example 11.56:'))\n",
    "print(remainingAmount)\n",
    "numberOfOneDollars = remainingAmount //100\n",
    "remainingAmount = remainingAmount % 100\n",
    "numberOfQuarters = remainingAmount // 25\n",
    "remainingAmount = remainingAmount % 25\n",
    "numberOfDimes = remainingAmount // 10\n",
    "remainingAmount = remainingAmount % 10\n",
    "numberOfNickls = remainingAmount // 5\n",
    "remainingAmount = remainingAmount % 5\n",
    "numberOfPenies = remainingAmount\n",
    "print(numberOfOneDollars,numberOfQuarters,numberOfDimes,numberOfNickls,numberOfPenies)"
   ]
  },
  {
   "cell_type": "markdown",
   "metadata": {},
   "source": [
    "## id与type\n",
    "- id 查看内存地址，在判断语句中将会使用\n",
    "- type 查看元素类型"
   ]
  },
  {
   "cell_type": "code",
   "execution_count": 46,
   "metadata": {},
   "outputs": [
    {
     "data": {
      "text/plain": [
       "1828092480"
      ]
     },
     "execution_count": 46,
     "metadata": {},
     "output_type": "execute_result"
    }
   ],
   "source": [
    "a=100\n",
    "id(a)"
   ]
  },
  {
   "cell_type": "code",
   "execution_count": 47,
   "metadata": {},
   "outputs": [
    {
     "data": {
      "text/plain": [
       "True"
      ]
     },
     "execution_count": 47,
     "metadata": {},
     "output_type": "execute_result"
    }
   ],
   "source": [
    "100==100"
   ]
  },
  {
   "cell_type": "code",
   "execution_count": 49,
   "metadata": {},
   "outputs": [
    {
     "data": {
      "text/plain": [
       "True"
      ]
     },
     "execution_count": 49,
     "metadata": {},
     "output_type": "execute_result"
    }
   ],
   "source": [
    "100 is 100 #判断内存地址"
   ]
  },
  {
   "cell_type": "markdown",
   "metadata": {},
   "source": [
    "## 其他格式化语句见书"
   ]
  },
  {
   "cell_type": "markdown",
   "metadata": {},
   "source": [
    "# Homework\n",
    "- 1\n",
    "<img src=\"../Photo/24.png\"><img>\n",
    "<img src=\"../Photo/25.png\"><img>"
   ]
  },
  {
   "cell_type": "code",
   "execution_count": 1,
   "metadata": {},
   "outputs": [
    {
     "name": "stdout",
     "output_type": "stream",
     "text": [
      "r5.5\n",
      "71.923649044821\n"
     ]
    }
   ],
   "source": [
    "r=eval(input(\"r\"))\n",
    "import math\n",
    "pi=math.pi\n",
    "s=2*r*(math.sin(pi/5))\n",
    "area=5*s*s/(4*math.tan(pi/5))\n",
    "print(area)"
   ]
  },
  {
   "cell_type": "markdown",
   "metadata": {},
   "source": [
    "- 2\n",
    "<img src=\"../Photo/26.png\"><img>"
   ]
  },
  {
   "cell_type": "code",
   "execution_count": 18,
   "metadata": {},
   "outputs": [
    {
     "name": "stdout",
     "output_type": "stream",
     "text": [
      "enter x1:  39.55\n",
      "enter y1:  -116.25\n",
      "enter x2:  41.5\n",
      "enter y2:  87.37\n",
      "the distance between the two points is 10691.79183231593 km\n"
     ]
    }
   ],
   "source": [
    "import math\n",
    "x1=math.radians(eval(input(\"enter x1:  \")))\n",
    "y1=math.radians(eval(input(\"enter y1:  \")))\n",
    "x2=math.radians(eval(input(\"enter x2:  \")))\n",
    "y2=math.radians(eval(input(\"enter y2:  \")))\n",
    "r=math.sin(x1)*math.sin(x2)+math.cos(x1)*math.cos(x2)*math.cos(y1-y2)\n",
    "d=6371.01*math.acos(r)\n",
    "print(\"the distance between the two points is\",d,\"km\")"
   ]
  },
  {
   "cell_type": "markdown",
   "metadata": {},
   "source": [
    "- 3\n",
    "<img src=\"../Photo/27.png\"><img>"
   ]
  },
  {
   "cell_type": "code",
   "execution_count": 23,
   "metadata": {},
   "outputs": [
    {
     "name": "stdout",
     "output_type": "stream",
     "text": [
      "Enter the side:5.5\n",
      "The area of the pentagon is: 52.044441367816255\n"
     ]
    }
   ],
   "source": [
    "import math\n",
    "s=eval(input(\"Enter the side:\"))\n",
    "fenzi=5*s*s\n",
    "fenmu=4*math.tan((math.pi)/5)\n",
    "area=fenzi/fenmu\n",
    "print(\"The area of the pentagon is:\",area)"
   ]
  },
  {
   "cell_type": "markdown",
   "metadata": {},
   "source": [
    "- 4\n",
    "<img src=\"../Photo/28.png\"><img>"
   ]
  },
  {
   "cell_type": "code",
   "execution_count": 34,
   "metadata": {},
   "outputs": [
    {
     "name": "stdout",
     "output_type": "stream",
     "text": [
      "enter the number of sides: 5\n",
      "enter the sides: 6.5\n",
      "72.69017017488386\n"
     ]
    }
   ],
   "source": [
    "import math\n",
    "n=eval(input(\"enter the number of sides: \"))\n",
    "s=eval(input(\"enter the sides: \"))\n",
    "fenzi=n*s*s\n",
    "fenmu=4*math.tan((math.pi)/n)\n",
    "Area=fenzi/fenmu\n",
    "print(Area)"
   ]
  },
  {
   "cell_type": "code",
   "execution_count": 32,
   "metadata": {},
   "outputs": [
    {
     "name": "stdout",
     "output_type": "stream",
     "text": [
      "Enter an ASCII code  102\n",
      "The character is f\n"
     ]
    }
   ],
   "source": [
    "num=eval(input(\"Enter an ASCII code  \"))\n",
    "x=chr(num)\n",
    "print(\"The character is\",x)"
   ]
  },
  {
   "cell_type": "markdown",
   "metadata": {},
   "source": [
    "- 6\n",
    "<img src=\"../Photo/31.png\"><img>"
   ]
  },
  {
   "cell_type": "code",
   "execution_count": 59,
   "metadata": {},
   "outputs": [
    {
     "name": "stdout",
     "output_type": "stream",
     "text": [
      "Enter employee'name: zxq\n",
      "Enter number of hours worked in a week: 20\n",
      "Enter hourly pay rate: 5\n",
      "Enter federal tax withholding rate: 0.2\n",
      "Enter state tax withholding rate: 0.09\n",
      "Employee Name: zxq\n",
      "Hours Worked: 20.0\n",
      "Pay Rate: $5\n",
      "Gross Pay: $100\n",
      "Deductions:\n",
      "  Federal Withholding (20.0%): $20.0\n",
      "  State Withholding (9.0%): $9.0\n",
      "  Total Deduction: $29.0\n",
      "Net Pay: $71.0\n"
     ]
    }
   ],
   "source": [
    "name=input(\"Enter employee'name: \")\n",
    "workhour=eval(input(\"Enter number of hours worked in a week: \"))\n",
    "hourly_pay=eval(input(\"Enter hourly pay rate: \"))\n",
    "federal_tax_rate=eval(input(\"Enter federal tax withholding rate: \"))\n",
    "state_tax_rate=eval (input(\"Enter state tax withholding rate: \"))\n",
    "\n",
    "gross_pay=workhour*hourly_pay\n",
    "federal_tax=gross_pay*federal_tax_rate\n",
    "state_tax=gross_pay*state_tax_rate\n",
    "total_deduction=federal_tax+state_tax\n",
    "net_pay=gross_pay-federal_tax-state_tax\n",
    "\n",
    "print(\"Employee Name:\",name)\n",
    "print(\"Hours Worked:\",float(workhour))\n",
    "print(\"Pay Rate:\",\"${}\".format(hourly_pay))\n",
    "print(\"Gross Pay:\",\"${}\".format(gross_pay))\n",
    "print(\"Deductions:\")\n",
    "print(\"  Federal Withholding (20.0%):\",\"${}\".format(federal_tax))\n",
    "print(\"  State Withholding (9.0%):\",\"${}\".format(state_tax))\n",
    "print(\"  Total Deduction:\",\"${}\".format(total_deduction))\n",
    "print(\"Net Pay:\",\"${}\".format(net_pay))"
   ]
  },
  {
   "cell_type": "markdown",
   "metadata": {},
   "source": [
    "- 7\n",
    "<img src=\"../Photo/32.png\"><img>"
   ]
  },
  {
   "cell_type": "code",
   "execution_count": 44,
   "metadata": {},
   "outputs": [
    {
     "name": "stdout",
     "output_type": "stream",
     "text": [
      "a number1234\n",
      "4321\n"
     ]
    }
   ],
   "source": [
    "num=eval(input(\"a number\"))\n",
    "a=num//1000\n",
    "b=(num-a*1000)//100\n",
    "c=(num-a*1000-b*100)//10\n",
    "d=num%10\n",
    "a1=a\n",
    "a2=b*10\n",
    "a3=c*100\n",
    "a4=d*1000\n",
    "new_num=a1+a2+a3+a4\n",
    "print(new_num)"
   ]
  },
  {
   "cell_type": "markdown",
   "metadata": {},
   "source": [
    "- 8 进阶：\n",
    "> 加密一串文本，并将解密后的文件写入本地保存"
   ]
  },
  {
   "cell_type": "code",
   "execution_count": 64,
   "metadata": {},
   "outputs": [
    {
     "name": "stdout",
     "output_type": "stream",
     "text": [
      "txt abcd\n",
      "defg"
     ]
    }
   ],
   "source": [
    "txt=input(\"txt \")\n",
    "for i in txt:\n",
    "    txt=ord(i)+3\n",
    "    txt_1=chr(txt)\n",
    "    print(txt_1,end=\"\")"
   ]
  }
 ],
 "metadata": {
  "kernelspec": {
   "display_name": "Python 3",
   "language": "python",
   "name": "python3"
  },
  "language_info": {
   "codemirror_mode": {
    "name": "ipython",
    "version": 3
   },
   "file_extension": ".py",
   "mimetype": "text/x-python",
   "name": "python",
   "nbconvert_exporter": "python",
   "pygments_lexer": "ipython3",
   "version": "3.6.4"
  }
 },
 "nbformat": 4,
 "nbformat_minor": 2
}
